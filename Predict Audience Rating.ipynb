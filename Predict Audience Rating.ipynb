{
  "nbformat": 4,
  "nbformat_minor": 0,
  "metadata": {
    "colab": {
      "provenance": []
    },
    "kernelspec": {
      "name": "python3",
      "display_name": "Python 3"
    },
    "language_info": {
      "name": "python"
    }
  },
  "cells": [
    {
      "cell_type": "code",
      "source": [
        "#libraries\n",
        "import pandas as pd\n",
        "import numpy as np\n",
        "from sklearn.model_selection import train_test_split, cross_val_score\n",
        "from sklearn.pipeline import Pipeline\n",
        "from sklearn.preprocessing import StandardScaler, LabelEncoder\n",
        "from sklearn.impute import SimpleImputer\n",
        "from sklearn.ensemble import RandomForestRegressor\n",
        "from sklearn.metrics import mean_squared_error, r2_score\n",
        "import matplotlib.pyplot as plt\n",
        "import seaborn as sns"
      ],
      "metadata": {
        "id": "pcj1NZGJpzyF"
      },
      "execution_count": 1,
      "outputs": []
    },
    {
      "cell_type": "code",
      "source": [
        "# Mount Google Drive\n",
        "from google.colab import drive\n",
        "drive.mount('/content/drive')"
      ],
      "metadata": {
        "id": "9f25RlSbvjJR"
      },
      "execution_count": null,
      "outputs": []
    },
    {
      "cell_type": "code",
      "source": [
        "# Load the dataset\n",
        "file_path = '/content/drive/MyDrive/ZOHO/Rotten_Tomatoes_Movies.csv'\n",
        "data = pd.read_csv(file_path, encoding='ISO-8859-1')"
      ],
      "metadata": {
        "id": "hwOqNrWqvv0w"
      },
      "execution_count": 3,
      "outputs": []
    },
    {
      "cell_type": "code",
      "source": [
        "# Data Exploration\n",
        "data.info()\n",
        "data.head()\n"
      ],
      "metadata": {
        "id": "GEXNSJTywHU4"
      },
      "execution_count": null,
      "outputs": []
    },
    {
      "cell_type": "code",
      "source": [
        "# Handle Missing Values\n",
        "# Replace missing values in numerical columns with the mean\n",
        "numerical_cols = data.select_dtypes(include=np.number).columns\n",
        "imputer = SimpleImputer(strategy='mean')\n",
        "data[numerical_cols] = imputer.fit_transform(data[numerical_cols])"
      ],
      "metadata": {
        "id": "Irf2xcFFwOsR"
      },
      "execution_count": 6,
      "outputs": []
    },
    {
      "cell_type": "code",
      "source": [
        "# Encode categorical columns (if any)\n",
        "categorical_cols = data.select_dtypes(include=['object']).columns\n",
        "for col in categorical_cols:\n",
        "    le = LabelEncoder()\n",
        "    data[col] = le.fit_transform(data[col])"
      ],
      "metadata": {
        "id": "jddTgZgzwSNs"
      },
      "execution_count": 7,
      "outputs": []
    },
    {
      "cell_type": "code",
      "source": [
        "# Check the cleaned dataset\n",
        "print(\"\\nCleaned Dataset:\")\n",
        "print(data.head())"
      ],
      "metadata": {
        "id": "-F7QUB-TwWGr"
      },
      "execution_count": null,
      "outputs": []
    },
    {
      "cell_type": "code",
      "source": [
        "# Define Features (X) and Target (y)\n",
        "if 'audience_rating' not in data.columns:\n",
        "    raise ValueError(\"The target column 'audience_rating' is missing in the dataset!\")\n",
        "\n",
        "X = data.drop(columns=['audience_rating'])  # Drop target column\n",
        "y = data['audience_rating']"
      ],
      "metadata": {
        "id": "UhsYeXv-waSl"
      },
      "execution_count": 9,
      "outputs": []
    },
    {
      "cell_type": "code",
      "source": [
        "# Split the dataset into Training and Test sets\n",
        "X_train, X_test, y_train, y_test = train_test_split(X, y, test_size=0.2, random_state=42)"
      ],
      "metadata": {
        "id": "ThtfLCvsweSi"
      },
      "execution_count": 10,
      "outputs": []
    },
    {
      "cell_type": "code",
      "source": [
        "# Create a Pipeline for Preprocessing and Model\n",
        "pipeline = Pipeline([\n",
        "    ('scaler', StandardScaler()),  # Feature Scaling\n",
        "    ('model', RandomForestRegressor(n_estimators=100, random_state=42))  # Model\n",
        "])"
      ],
      "metadata": {
        "id": "3e9mCRujwiWA"
      },
      "execution_count": 11,
      "outputs": []
    },
    {
      "cell_type": "code",
      "source": [
        "# Train the Model\n",
        "pipeline.fit(X_train, y_train)"
      ],
      "metadata": {
        "id": "Ss0lTN1Ywlbl"
      },
      "execution_count": null,
      "outputs": []
    },
    {
      "cell_type": "code",
      "source": [
        "# Make Predictions\n",
        "y_pred = pipeline.predict(X_test)"
      ],
      "metadata": {
        "id": "1WluwwHgwuNy"
      },
      "execution_count": 13,
      "outputs": []
    },
    {
      "cell_type": "code",
      "source": [
        "# Evaluate the Model\n",
        "rmse = mean_squared_error(y_test, y_pred, squared=False)\n",
        "r2 = r2_score(y_test, y_pred)\n",
        "\n",
        "print(\"\\nModel Performance:\")\n",
        "print(f\"Root Mean Squared Error (RMSE): {rmse:.2f}\")\n",
        "print(f\"R2 Score: {r2:.2f}\")"
      ],
      "metadata": {
        "id": "PDGi0c2wwx3b"
      },
      "execution_count": null,
      "outputs": []
    },
    {
      "cell_type": "code",
      "source": [
        "# Cross-Validation\n",
        "cv_scores = cross_val_score(pipeline, X, y, cv=5, scoring='r2')\n",
        "print(f\"\\nCross-Validation R2 Scores: {cv_scores}\")\n",
        "print(f\"Average CV R2 Score: {np.mean(cv_scores):.2f}\")"
      ],
      "metadata": {
        "id": "2mWDE15Iw0TG"
      },
      "execution_count": null,
      "outputs": []
    },
    {
      "cell_type": "code",
      "source": [
        "# Visualize Predictions vs Actual\n",
        "plt.figure(figsize=(8, 6))\n",
        "sns.scatterplot(x=y_test, y=y_pred)\n",
        "plt.xlabel(\"Actual Audience Rating\")\n",
        "plt.ylabel(\"Predicted Audience Rating\")\n",
        "plt.title(\"Actual vs Predicted Audience Rating\")\n",
        "plt.show()"
      ],
      "metadata": {
        "id": "AvnMZX0uyJjj"
      },
      "execution_count": null,
      "outputs": []
    }
  ]
}